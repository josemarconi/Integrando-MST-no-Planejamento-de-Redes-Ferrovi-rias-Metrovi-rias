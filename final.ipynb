{
 "cells": [
  {
   "cell_type": "code",
   "execution_count": 2,
   "metadata": {},
   "outputs": [],
   "source": [
    "import pandas as pd\n",
    "import networkx as nx\n",
    "\n",
    "data = pd.read_csv('CSVs\\capitais.csv')\n",
    "\n",
    "Grafo = nx.Graph()\n",
    "\n",
    "for index, row in data.iterrows():\n",
    "    Grafo.add_node(row['uf'], pos=(row['latitude'], row['longitude']))\n",
    "\n",
    "for i in range(len(data) - 1):\n",
    "    for j in range(i + 1, len(data)):\n",
    "        node1, node2 = data.loc[i, 'uf'], data.loc[j, 'uf']\n",
    "        pos1, pos2 = Grafo.nodes[node1]['pos'], Grafo.nodes[node2]['pos']\n",
    "        distancia = ((pos2[0] - pos1[0])**2 + (pos2[1] - pos1[1])**2)**0.5\n",
    "        Grafo.add_edge(node1, node2, weight=distancia)\n",
    "\n",
    "caminhos_minimos = dict(nx.all_pairs_dijkstra_path_length(Grafo))\n",
    "\n",
    "dataFrame_caminhos_minimos = pd.DataFrame(caminhos_minimos)\n",
    "\n",
    "dataFrame_caminhos_minimos.to_csv('CSVs\\Dijkstra.csv', index_label='uf_origem')"
   ]
  },
  {
   "cell_type": "code",
   "execution_count": 3,
   "metadata": {},
   "outputs": [],
   "source": [
    "import pandas as pd\n",
    "import networkx as nx\n",
    "\n",
    "arquivo = 'CSVs\\CaminhoMinimo4.csv'  \n",
    "DataFrame_Minimo = pd.read_csv(arquivo)\n",
    "\n",
    "NewGrafo = nx.from_pandas_edgelist(DataFrame_Minimo, 'Source', 'Target', ['Weight'], create_using=nx.DiGraph())\n",
    "\n",
    "Grafo_nao_direcionado = NewGrafo.to_undirected()\n",
    "\n",
    "Arvore_Geradora_Minima = list(nx.minimum_spanning_edges(Grafo_nao_direcionado, algorithm='kruskal', data=False))\n",
    "\n",
    "\n",
    "Grafo_MST = nx.Graph(Arvore_Geradora_Minima)\n",
    "\n",
    "Grafo_resultante = pd.DataFrame(Grafo_MST.edges(), columns=['Source', 'Target'])\n",
    "\n",
    "novo_arquivo = 'CSVs\\MST2.csv'\n",
    "Grafo_resultante.to_csv(novo_arquivo, index=False)"
   ]
  }
 ],
 "metadata": {
  "kernelspec": {
   "display_name": "Python 3",
   "language": "python",
   "name": "python3"
  },
  "language_info": {
   "codemirror_mode": {
    "name": "ipython",
    "version": 3
   },
   "file_extension": ".py",
   "mimetype": "text/x-python",
   "name": "python",
   "nbconvert_exporter": "python",
   "pygments_lexer": "ipython3",
   "version": "3.11.6"
  }
 },
 "nbformat": 4,
 "nbformat_minor": 2
}
